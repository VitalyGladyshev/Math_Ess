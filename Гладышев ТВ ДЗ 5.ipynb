{
 "cells": [
  {
   "cell_type": "code",
   "execution_count": 1,
   "metadata": {},
   "outputs": [],
   "source": [
    "import numpy as np\n",
    "from scipy import stats"
   ]
  },
  {
   "cell_type": "markdown",
   "metadata": {},
   "source": [
    "# ДЗ №5 Гладышев В.В."
   ]
  },
  {
   "cell_type": "markdown",
   "metadata": {},
   "source": [
    "## Задание №1"
   ]
  },
  {
   "cell_type": "markdown",
   "metadata": {},
   "source": [
    "Утверждается, что шарики для подшипников, изготовленные автоматическим станком, имеют средний диаметр 17 мм. Используя уровень значимости 0.025 и правостороннюю критическую область, проверить данную гипотезу при условии, что в выборке из 100 шариков средний диаметр оказался равным 17.5 мм, а дисперсия известна и равна 4 мм."
   ]
  },
  {
   "cell_type": "code",
   "execution_count": 64,
   "metadata": {},
   "outputs": [
    {
     "name": "stdout",
     "output_type": "stream",
     "text": [
      "[19.11550571 13.72634068 15.1150074  15.72689367 15.22388    17.14802773\n",
      " 14.63465271 16.57433536 14.04797967 16.34694528 19.73724515 13.1816848\n",
      " 19.52381361 19.2333445  16.61516446 16.77994438 15.17671928 18.1820199\n",
      " 15.59072715 11.64843789 17.21389939 18.44625486 18.2409552  13.82686319\n",
      " 19.868746   16.58147328 18.05808053 16.83803471 14.83078883 18.80015228\n",
      " 18.04705408 17.98325727 15.7080228  13.90504548 18.57309974 14.77723254\n",
      " 15.67827182 14.23190842 19.38406207 18.2743991  19.45640612 19.59741484\n",
      " 16.37271848 16.42412483 13.99785732 19.12404435 17.40511836 14.57804715\n",
      " 15.94028118 14.57017057 18.3876626  18.09944332 15.094877   17.89684353\n",
      " 17.28994032 13.82206497 15.60639849 19.59640987 14.40138576 15.37361208\n",
      " 15.27837861 19.81973187 16.04108894 17.86753726 16.95176911 18.77088093\n",
      " 18.76507814 18.78470461 15.66012551 17.74228688 16.8591946  16.77999428\n",
      " 13.05902954 14.19279326 15.75861692 16.38649161 19.72913791 16.79358259\n",
      " 16.33260232 16.26807779 18.25492136 13.89430803 20.08025103 14.75043293\n",
      " 15.36158535 18.06422508 15.64406789 16.71273427 19.27207666 16.82076473\n",
      " 14.51886186 20.1967249  15.72409685 17.0384404  17.00154971 14.97307014\n",
      " 14.34680891 17.57097967 19.69086592 15.89801768]\n"
     ]
    }
   ],
   "source": [
    "n = 100\n",
    "\n",
    "samples = np.random.normal(17, 2, size=n)\n",
    "\n",
    "print(samples)"
   ]
  },
  {
   "cell_type": "code",
   "execution_count": 65,
   "metadata": {},
   "outputs": [
    {
     "data": {
      "text/plain": [
       "16.692869780885403"
      ]
     },
     "execution_count": 65,
     "metadata": {},
     "output_type": "execute_result"
    }
   ],
   "source": [
    "mean = samples.mean()\n",
    "mean"
   ]
  },
  {
   "cell_type": "code",
   "execution_count": 66,
   "metadata": {},
   "outputs": [
    {
     "name": "stdout",
     "output_type": "stream",
     "text": [
      "20.919927969080106\n"
     ]
    }
   ],
   "source": [
    "print(stats.norm.ppf(q = (1 - alpha), loc = 17, scale = 2))"
   ]
  },
  {
   "cell_type": "markdown",
   "metadata": {},
   "source": [
    "В нашем случае статистика имеет вид:\n",
    "$$T(X) = \\dfrac{\\overline{X} - 17.5}{\\sqrt{4} / \\sqrt{100}} = \\dfrac{10 \\cdot (\\overline{X} - 17.5)}{2}$$"
   ]
  },
  {
   "cell_type": "code",
   "execution_count": 68,
   "metadata": {},
   "outputs": [
    {
     "data": {
      "text/plain": [
       "-4.035651095572987"
      ]
     },
     "execution_count": 68,
     "metadata": {},
     "output_type": "execute_result"
    }
   ],
   "source": [
    "T = 10 * (mean - 17.5)/2\n",
    "T"
   ]
  },
  {
   "cell_type": "code",
   "execution_count": 46,
   "metadata": {},
   "outputs": [
    {
     "name": "stdout",
     "output_type": "stream",
     "text": [
      "1.959963984540054\n"
     ]
    }
   ],
   "source": [
    "alpha = 0.025\n",
    "\n",
    "print(stats.norm.ppf(1 - alpha))"
   ]
  },
  {
   "cell_type": "code",
   "execution_count": 73,
   "metadata": {},
   "outputs": [
    {
     "name": "stdout",
     "output_type": "stream",
     "text": [
      "-2.9315\n",
      "-3.0753\n",
      "-2.1152\n",
      "-2.6141\n",
      "-3.3408\n",
      "-1.5726\n",
      "-3.4183\n",
      "-3.2287\n",
      "-1.8796\n",
      "-2.8651\n"
     ]
    }
   ],
   "source": [
    "n = 100\n",
    "alpha = 0.025\n",
    "\n",
    "for _ in range(0,10):\n",
    "    print(\"{:.4f}\".format(10 * (np.random.normal(17, 2, size=n).mean() - 17.5)/2))"
   ]
  },
  {
   "cell_type": "code",
   "execution_count": 72,
   "metadata": {},
   "outputs": [
    {
     "name": "stdout",
     "output_type": "stream",
     "text": [
      "674744\n",
      "1711393\n",
      "1906860\n",
      "1946804\n",
      "2316065\n"
     ]
    }
   ],
   "source": [
    "n = 100\n",
    "alpha = 0.025\n",
    "\n",
    "cnt = 0\n",
    "cnt_cnt = 0\n",
    "b = stats.norm.ppf(1 - alpha)\n",
    "\n",
    "while(True):\n",
    "    cnt += 1\n",
    "    w = 10 * (np.random.normal(17, 2, size=n).mean() - 17.5)/2\n",
    "    if w > b:\n",
    "        cnt_cnt += 1\n",
    "        print(cnt)\n",
    "        if cnt_cnt >= 5:\n",
    "            break"
   ]
  },
  {
   "cell_type": "markdown",
   "metadata": {},
   "source": [
    "Нулевую гипотезу не отклоняем"
   ]
  },
  {
   "cell_type": "markdown",
   "metadata": {},
   "source": [
    "## Задание №2"
   ]
  },
  {
   "cell_type": "markdown",
   "metadata": {},
   "source": [
    "Известно, что генеральная совокупность распределена нормально с известным средним квадратическим отклонением 16. Найти доверительный интервал для оценки математического ожидания a с надёжностью 0.95, если выборочное среднее равно 80, а объём равен 256."
   ]
  },
  {
   "cell_type": "code",
   "execution_count": 76,
   "metadata": {},
   "outputs": [
    {
     "data": {
      "text/plain": [
       "1.959963984540054"
      ]
     },
     "execution_count": 76,
     "metadata": {},
     "output_type": "execute_result"
    }
   ],
   "source": [
    "alpha = 0.05\n",
    "\n",
    "s2 = stats.norm.ppf(1 - alpha / 2)\n",
    "s2"
   ]
  },
  {
   "cell_type": "code",
   "execution_count": 75,
   "metadata": {},
   "outputs": [
    {
     "data": {
      "text/plain": [
       "(78.04003601545995, 81.95996398454005)"
      ]
     },
     "execution_count": 75,
     "metadata": {},
     "output_type": "execute_result"
    }
   ],
   "source": [
    "n = 256\n",
    "std = 16\n",
    "mean = 80\n",
    "\n",
    "(mean - s2 * std / np.sqrt(n), mean + s2 * std / np.sqrt(n))"
   ]
  },
  {
   "cell_type": "markdown",
   "metadata": {},
   "source": [
    "## Задание №3"
   ]
  },
  {
   "cell_type": "markdown",
   "metadata": {},
   "source": [
    "Продавец утверждает, что средний вес пачки печенья составляет 200 г. Из партии извлечена выборка из 10 пачек. Вес каждой пачки составляет:\n",
    "\n",
    "202, 203, 199, 197, 195, 201, 200, 204, 194, 190\n",
    "Известно, что их веса распределены нормально. Верно ли утверждение продавца, если учитывать, что уровень значимости равен 1%?"
   ]
  },
  {
   "cell_type": "code",
   "execution_count": 77,
   "metadata": {},
   "outputs": [],
   "source": [
    "samples = np.array([202, 203, 199, 197, 195, 201, 200, 204, 194, 190])"
   ]
  },
  {
   "cell_type": "code",
   "execution_count": 78,
   "metadata": {},
   "outputs": [
    {
     "data": {
      "text/plain": [
       "(10, 198.5, 4.453463071962462)"
      ]
     },
     "execution_count": 78,
     "metadata": {},
     "output_type": "execute_result"
    }
   ],
   "source": [
    "n = samples.shape[0]\n",
    "\n",
    "mean = samples.mean()\n",
    "std = samples.std(ddof=1)\n",
    "\n",
    "n, mean, std"
   ]
  },
  {
   "cell_type": "code",
   "execution_count": 81,
   "metadata": {},
   "outputs": [
    {
     "data": {
      "text/plain": [
       "(-2.575829303548901, 2.5758293035489004)"
      ]
     },
     "execution_count": 81,
     "metadata": {},
     "output_type": "execute_result"
    }
   ],
   "source": [
    "alpha = 0.01\n",
    "\n",
    "sa = stats.norm.ppf(1 - alpha / 2)\n",
    "sb = stats.norm.ppf(alpha / 2)\n",
    "sb, sa"
   ]
  },
  {
   "cell_type": "code",
   "execution_count": 82,
   "metadata": {},
   "outputs": [
    {
     "data": {
      "text/plain": [
       "(194.87243723803084, 202.12756276196916)"
      ]
     },
     "execution_count": 82,
     "metadata": {},
     "output_type": "execute_result"
    }
   ],
   "source": [
    "(mean - sa * std / np.sqrt(n), mean + sa * std / np.sqrt(n))"
   ]
  },
  {
   "cell_type": "markdown",
   "metadata": {},
   "source": [
    "Утверждение продавца не верно"
   ]
  },
  {
   "cell_type": "code",
   "execution_count": null,
   "metadata": {},
   "outputs": [],
   "source": []
  }
 ],
 "metadata": {
  "kernelspec": {
   "display_name": "Python 3",
   "language": "python",
   "name": "python3"
  },
  "language_info": {
   "codemirror_mode": {
    "name": "ipython",
    "version": 3
   },
   "file_extension": ".py",
   "mimetype": "text/x-python",
   "name": "python",
   "nbconvert_exporter": "python",
   "pygments_lexer": "ipython3",
   "version": "3.7.3"
  }
 },
 "nbformat": 4,
 "nbformat_minor": 2
}
