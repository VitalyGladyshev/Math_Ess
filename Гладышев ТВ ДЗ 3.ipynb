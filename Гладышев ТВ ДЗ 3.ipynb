{
 "cells": [
  {
   "cell_type": "markdown",
   "metadata": {},
   "source": [
    "# ДЗ №3 Гладышев В.В."
   ]
  },
  {
   "cell_type": "markdown",
   "metadata": {},
   "source": [
    "## Задание №1"
   ]
  },
  {
   "cell_type": "markdown",
   "metadata": {},
   "source": [
    "Даны значения зарплат из выборки выпускников: \n",
    "```\n",
    "100, 80, 75, 77, 89, 33, 45, 25, 65, 17, 30, 230, 24, 57, 55, 70, 75, 65, 84, 90, 150\n",
    "```\n",
    "Используя только встроенные питоновские функции и структуры данных (т.е. без библиотек `numpy`, `pandas` и др.) посчитать среднее арифметическое, смещённую и несмещённую оценки дисперсии, среднее квадратичное отклонение для данной выборки.\n",
    "\n",
    "Можно затем посчитать те же значения с использованием библиотек, чтобы проверить себя."
   ]
  },
  {
   "cell_type": "code",
   "execution_count": 43,
   "metadata": {},
   "outputs": [
    {
     "name": "stdout",
     "output_type": "stream",
     "text": [
      "python\n",
      "  среднее арифметическое:\t73.1429\n",
      "  выборочная дисперсия:\t\t2135.0748\n",
      "  несмещённая дисперсия:\t2241.8286\n",
      "  среднеквадратическое отклонение: 47.3480\n",
      "\n",
      "statistics\n",
      "  среднее арифметическое:\t73.1429\n",
      "  выборочная дисперсия:\t\t2135.0748\n",
      "  несмещённая дисперсия:\t2241.8286\n",
      "  среднеквадратическое отклонение: 47.3480\n"
     ]
    }
   ],
   "source": [
    "data = [100, 80, 75, 77, 89, 33, 45, 25, 65, 17, 30, 230, 24, 57, 55, 70, 75, 65, 84, 90, 150]\n",
    "\n",
    "print(\"python\")\n",
    "m = sum(data)/len(data)\n",
    "dp = sum((el-m)**2 for el in data)/len(data)\n",
    "dc = sum((el-m)**2 for el in data)/(len(data)-1)\n",
    "st = dc**0.5\n",
    "print(\"  среднее арифметическое:\\t{:.4f}\".format(m))\n",
    "print(\"  выборочная дисперсия:\\t\\t{:.4f}\".format(dp))\n",
    "print(\"  несмещённая дисперсия:\\t{:.4f}\".format(dc))\n",
    "print(\"  среднеквадратическое отклонение: {:.4f}\\n\".format(st))\n",
    "\n",
    "import statistics\n",
    "print(\"statistics\")\n",
    "print(\"  среднее арифметическое:\\t{:.4f}\".format(statistics.mean(data)))\n",
    "print(\"  выборочная дисперсия:\\t\\t{:.4f}\".format(statistics.pvariance(data)))\n",
    "print(\"  несмещённая дисперсия:\\t{:.4f}\".format(statistics.variance(data)))\n",
    "print(\"  среднеквадратическое отклонение: {:.4f}\".format(statistics.stdev(data)))"
   ]
  },
  {
   "cell_type": "markdown",
   "metadata": {},
   "source": [
    "## Задание №2"
   ]
  },
  {
   "cell_type": "markdown",
   "metadata": {},
   "source": [
    "Для выборки из задачи 1 найти (также без использования библиотек):\n",
    "1. медиану, первый и третий квартили, интерквартильное расстояние,\n",
    "2. выборсы в выборке (используя для этого метод как при построении \"усов\" из `boxplot`). \n",
    "\n",
    "Возможные неоднозначности в вычислении квантилей можно разрешать любым способом."
   ]
  },
  {
   "cell_type": "code",
   "execution_count": 59,
   "metadata": {},
   "outputs": [
    {
     "name": "stdout",
     "output_type": "stream",
     "text": [
      "[17, 24, 25, 30, 33, 45, 55, 57, 65, 65, 70, 75, 75, 77, 80, 84, 89, 90, 100, 150, 230]\n",
      "\n",
      "медиана: 30\n",
      "первый квартиль: 45\n",
      "третий квартиль: 89\n",
      "интерквартильный размах: 44\n",
      "\n",
      "выбросы: [230]\n"
     ]
    }
   ],
   "source": [
    "data = [100, 80, 75, 77, 89, 33, 45, 25, 65, 17, 30, 230, 24, 57, 55, 70, 75, 65, 84, 90, 150]\n",
    "sorted_data = sorted(data)\n",
    "print(sorted_data)\n",
    "\n",
    "median = sorted_data[len(sorted_data)//2]\n",
    "quartile_1 = sorted_data[round(len(sorted_data)*0.25)]\n",
    "quartile_3 = sorted_data[round(len(sorted_data)*0.75)]\n",
    "\n",
    "print(\"\\nмедиана: {}\".format(med))\n",
    "print(\"первый квартиль: {}\".format(quartile_1))\n",
    "print(\"третий квартиль: {}\".format(quartile_3))\n",
    "print(\"интерквартильный размах: {}\\n\".format(quartile_3 - quartile_1))\n",
    "\n",
    "dev = []\n",
    "inter_q = quartile_3 - quartile_1\n",
    "for el in sorted_data:\n",
    "    if el < quartile_1 - inter_q*1.5 or el > quartile_3 + inter_q*1.5:\n",
    "        dev.append(el)\n",
    "print(\"выбросы: {}\".format(dev))"
   ]
  },
  {
   "cell_type": "markdown",
   "metadata": {},
   "source": [
    "## Задание №3"
   ]
  },
  {
   "cell_type": "markdown",
   "metadata": {},
   "source": [
    "В университет на факультеты `A` и `B` поступило равное количество студентов, а на факультет `C` студентов поступило столько же, сколько на `A` и `B` вместе. Вероятность того, что студент факультета `A` сдаст первую сессию, равна 0.8. Для студента факультета `B` эта вероятность равна 0.7, а для студента факультета `C` - 0.9. Студент сдал первую сессию. Какова вероятность, что он учится: a) на факультете `A`? б) на факультете `B`? в) на факультете `C`?"
   ]
  },
  {
   "cell_type": "markdown",
   "metadata": {},
   "source": [
    "$$P(Х) = 0.8 \\cdot \\dfrac{1}{4} + 0.7 \\cdot \\dfrac{1}{4} + 0.9 \\cdot \\dfrac{2}{4} = \\dfrac{33}{40}$$\n",
    "\n",
    "Вероятность, что студент учится на факультете А:\n",
    "$$P(Y_А|Х) = \\dfrac{0.8 \\cdot \\frac{1}{4}}{\\frac{33}{40}} = \\frac{8}{33} \\approx 0.24(24)$$\n",
    "\n",
    "Вероятность, что студент учится на факультете В:\n",
    "$$P(Y_В|Х) = \\dfrac{0.7 \\cdot \\frac{1}{4}}{\\frac{33}{40}} = \\frac{7}{33} \\approx 0.21(21)$$\n",
    "\n",
    "Вероятность, что студент учится на факультете С:\n",
    "$$P(Y_С|Х) = \\dfrac{0.9 \\cdot \\frac{2}{4}}{\\frac{33}{40}} = \\frac{18}{33} \\approx 0.54(54)$$"
   ]
  },
  {
   "cell_type": "code",
   "execution_count": null,
   "metadata": {},
   "outputs": [],
   "source": []
  }
 ],
 "metadata": {
  "kernelspec": {
   "display_name": "Python 3",
   "language": "python",
   "name": "python3"
  },
  "language_info": {
   "codemirror_mode": {
    "name": "ipython",
    "version": 3
   },
   "file_extension": ".py",
   "mimetype": "text/x-python",
   "name": "python",
   "nbconvert_exporter": "python",
   "pygments_lexer": "ipython3",
   "version": "3.7.3"
  }
 },
 "nbformat": 4,
 "nbformat_minor": 2
}
