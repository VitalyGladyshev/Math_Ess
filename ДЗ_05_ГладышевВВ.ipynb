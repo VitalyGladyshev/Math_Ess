{
 "cells": [
  {
   "cell_type": "code",
   "execution_count": 2,
   "metadata": {},
   "outputs": [],
   "source": [
    "%matplotlib inline\n",
    "import numpy as np\n",
    "import matplotlib.pyplot as plt\n",
    "import matplotlib.mlab as mlab\n",
    "import scipy.stats as sts\n",
    "import itertools\n",
    "import math"
   ]
  },
  {
   "cell_type": "markdown",
   "metadata": {},
   "source": [
    "# ДЗ №5 ГладышевВВ"
   ]
  },
  {
   "cell_type": "markdown",
   "metadata": {},
   "source": [
    "# Тема 4 Теория вероятностей"
   ]
  },
  {
   "cell_type": "markdown",
   "metadata": {},
   "source": [
    "## Задание 1"
   ]
  },
  {
   "cell_type": "code",
   "execution_count": 4,
   "metadata": {},
   "outputs": [
    {
     "name": "stdout",
     "output_type": "stream",
     "text": [
      "\n",
      "16 чёрное\n",
      "\n",
      "27 чёрное\n",
      "\n",
      "14 чёрное\n",
      "\n",
      "11 красное\n",
      "\n",
      "26 красное\n",
      "\n",
      "13 красное\n",
      "\n",
      "25 чёрное\n",
      "\n",
      "18 чёрное\n",
      "\n",
      "28 красное\n",
      "\n",
      "34 чёрное\n"
     ]
    }
   ],
   "source": [
    "b = [2,4,6,8,10,11,13,15,17,20,22,24,26,28,29,31,33,35]\n",
    "#r = [1,3,5,7,9,12,14,16,18,19,21,23,25,27,30,32,34,36]\n",
    "\n",
    "for i in range(0,10):\n",
    "    a = input()\n",
    "    x = np.random.randint(0, 37)\n",
    "    if x==0:\n",
    "        print(\"зеро\")\n",
    "    elif x in b:\n",
    "        print(\"{} красное\".format(x))\n",
    "    else:\n",
    "        print(\"{} чёрное\".format(x))"
   ]
  },
  {
   "cell_type": "markdown",
   "metadata": {},
   "source": [
    "## Задание 2.1"
   ]
  },
  {
   "cell_type": "code",
   "execution_count": 39,
   "metadata": {
    "scrolled": true
   },
   "outputs": [
    {
     "data": {
      "image/png": "[encoded data removed]",
      "text/plain": [
       "<Figure size 432x288 with 1 Axes>"
      ]
     },
     "metadata": {
      "needs_background": "light"
     },
     "output_type": "display_data"
    }
   ],
   "source": [
    "n = 1000000\n",
    "x = []\n",
    "\n",
    "for i in range(0, n):\n",
    "    x.append(np.random.randint(0, 37))\n",
    "    \n",
    "num_bins = 37\n",
    "z, bins, patches = plt.hist(x, num_bins)\n",
    "plt.xlabel('x')\n",
    "plt.ylabel('Вероятность')\n",
    "plt.title('Распределение полей рулетки')\n",
    "plt.show()"
   ]
  },
  {
   "cell_type": "markdown",
   "metadata": {},
   "source": [
    "### Числа рулетки несовместные равновероятные события. Вероятность наступления каждого из них д.б. 1/37 (хотя, так мы больше проверям распределение генератора :))) )"
   ]
  },
  {
   "cell_type": "code",
   "execution_count": 50,
   "metadata": {},
   "outputs": [
    {
     "name": "stdout",
     "output_type": "stream",
     "text": [
      "Эталон 1/37: 0.027027\n",
      "Поле: 0, Относительная частота: 0.027050, Отклонение: 0.000023\n",
      "Поле: 1, Относительная частота: 0.026988, Отклонение: 0.000039\n",
      "Поле: 2, Относительная частота: 0.026819, Отклонение: 0.000208\n",
      "Поле: 3, Относительная частота: 0.027251, Отклонение: 0.000224\n",
      "Поле: 4, Относительная частота: 0.027164, Отклонение: 0.000137\n",
      "Поле: 5, Относительная частота: 0.027376, Отклонение: 0.000349\n",
      "Поле: 6, Относительная частота: 0.027155, Отклонение: 0.000128\n",
      "Поле: 7, Относительная частота: 0.027208, Отклонение: 0.000181\n",
      "Поле: 8, Относительная частота: 0.026918, Отклонение: 0.000109\n",
      "Поле: 9, Относительная частота: 0.026929, Отклонение: 0.000098\n",
      "Поле: 10, Относительная частота: 0.026996, Отклонение: 0.000031\n",
      "Поле: 11, Относительная частота: 0.026852, Отклонение: 0.000175\n",
      "Поле: 12, Относительная частота: 0.026739, Отклонение: 0.000288\n",
      "Поле: 13, Относительная частота: 0.026939, Отклонение: 0.000088\n",
      "Поле: 14, Относительная частота: 0.026892, Отклонение: 0.000135\n",
      "Поле: 15, Относительная частота: 0.026961, Отклонение: 0.000066\n",
      "Поле: 16, Относительная частота: 0.026999, Отклонение: 0.000028\n",
      "Поле: 17, Относительная частота: 0.027320, Отклонение: 0.000293\n",
      "Поле: 18, Относительная частота: 0.026914, Отклонение: 0.000113\n",
      "Поле: 19, Относительная частота: 0.027118, Отклонение: 0.000091\n",
      "Поле: 20, Относительная частота: 0.027011, Отклонение: 0.000016\n",
      "Поле: 21, Относительная частота: 0.027249, Отклонение: 0.000222\n",
      "Поле: 22, Относительная частота: 0.026866, Отклонение: 0.000161\n",
      "Поле: 23, Относительная частота: 0.027187, Отклонение: 0.000160\n",
      "Поле: 24, Относительная частота: 0.026826, Отклонение: 0.000201\n",
      "Поле: 25, Относительная частота: 0.027116, Отклонение: 0.000089\n",
      "Поле: 26, Относительная частота: 0.027001, Отклонение: 0.000026\n",
      "Поле: 27, Относительная частота: 0.026933, Отклонение: 0.000094\n",
      "Поле: 28, Относительная частота: 0.026993, Отклонение: 0.000034\n",
      "Поле: 29, Относительная частота: 0.027005, Отклонение: 0.000022\n",
      "Поле: 30, Относительная частота: 0.027018, Отклонение: 0.000009\n",
      "Поле: 31, Относительная частота: 0.026857, Отклонение: 0.000170\n",
      "Поле: 32, Относительная частота: 0.026977, Отклонение: 0.000050\n",
      "Поле: 33, Относительная частота: 0.027116, Отклонение: 0.000089\n",
      "Поле: 34, Относительная частота: 0.027082, Отклонение: 0.000055\n",
      "Поле: 35, Относительная частота: 0.027064, Отклонение: 0.000037\n",
      "Поле: 36, Относительная частота: 0.027110, Отклонение: 0.000083\n"
     ]
    }
   ],
   "source": [
    "arr = np.fromiter(x, dtype = int)\n",
    "\n",
    "t = 1/37\n",
    "print(\"Эталон 1/37: {:.6f}\".format(t))\n",
    "for ind in range(0, 37):\n",
    "    cnt = np.count_nonzero(np.where(arr == ind))\n",
    "    print(\"Поле: {}, Относительная частота: {:.6f}, Отклонение: {:.6f}\".format(ind, cnt/n, abs(t - cnt/n)))"
   ]
  },
  {
   "cell_type": "markdown",
   "metadata": {},
   "source": [
    "## Задание 2.2"
   ]
  },
  {
   "cell_type": "code",
   "execution_count": 79,
   "metadata": {},
   "outputs": [
    {
     "data": {
      "image/png": "[encoded data removed]",
      "text/plain": [
       "<Figure size 432x288 with 1 Axes>"
      ]
     },
     "metadata": {
      "needs_background": "light"
     },
     "output_type": "display_data"
    }
   ],
   "source": [
    "n = 10000\n",
    "arr = np.zeros(n)\n",
    "for _ in range(0, 10):\n",
    "    arr +=  np.random.rand(n)\n",
    "\n",
    "num_bins = 10\n",
    "z, bins, patches = plt.hist(arr, num_bins)\n",
    "plt.xlabel('x')\n",
    "plt.ylabel('Сумма')\n",
    "plt.title('Сумма 10 выборок случайных чисел')\n",
    "plt.show()"
   ]
  },
  {
   "cell_type": "code",
   "execution_count": 81,
   "metadata": {},
   "outputs": [
    {
     "data": {
      "image/png": "[encoded data removed]",
      "text/plain": [
       "<Figure size 432x288 with 1 Axes>"
      ]
     },
     "metadata": {
      "needs_background": "light"
     },
     "output_type": "display_data"
    }
   ],
   "source": [
    "n = 10000\n",
    "arr = np.zeros(n)\n",
    "for _ in range(0, 10):\n",
    "    arr +=  np.random.randint(0, 2, n)\n",
    "\n",
    "num_bins = 10\n",
    "z, bins, patches = plt.hist(arr, num_bins)\n",
    "plt.xlabel('x')\n",
    "plt.ylabel('Сумма')\n",
    "plt.title('Сумма 10 выборок случайных чисел')\n",
    "plt.show()"
   ]
  },
  {
   "cell_type": "markdown",
   "metadata": {},
   "source": [
    "## Задание 3"
   ]
  },
  {
   "cell_type": "code",
   "execution_count": 84,
   "metadata": {},
   "outputs": [
    {
     "name": "stdout",
     "output_type": "stream",
     "text": [
      "3735 10000 0.3735\n"
     ]
    }
   ],
   "source": [
    "k, n = 0, 10000\n",
    "a = np.random.randint(0, 2, n)\n",
    "b = np.random.randint(0, 2, n)\n",
    "c = np.random.randint(0, 2, n)\n",
    "d = np.random.randint(0, 2, n)\n",
    "x = a + b + c + d\n",
    "for i in range(0, n):\n",
    "    if x[i] == 2:\n",
    "        k = k + 1\n",
    "#print(a, b, c, d)\n",
    "#print(x)\n",
    "print(k, n, k/n)"
   ]
  },
  {
   "cell_type": "code",
   "execution_count": 85,
   "metadata": {},
   "outputs": [
    {
     "name": "stdout",
     "output_type": "stream",
     "text": [
      "0.375\n"
     ]
    }
   ],
   "source": [
    "n = 4\n",
    "k = 2\n",
    "p = 0.5\n",
    "\n",
    "com = math.factorial(n)/(math.factorial(k)*math.factorial(n-k))\n",
    "prob = com * p**k * (1-p)**(n-k)\n",
    "\n",
    "print(prob)"
   ]
  },
  {
   "cell_type": "code",
   "execution_count": 6,
   "metadata": {},
   "outputs": [
    {
     "name": "stdout",
     "output_type": "stream",
     "text": [
      "2188984 10000000 0.2188984\n"
     ]
    }
   ],
   "source": [
    "k, n = 0, 10000000\n",
    "a = np.random.randint(0, 2, n)\n",
    "b = np.random.randint(0, 2, n)\n",
    "c = np.random.randint(0, 2, n)\n",
    "d = np.random.randint(0, 2, n)\n",
    "e = np.random.randint(0, 2, n)\n",
    "f = np.random.randint(0, 2, n)\n",
    "g = np.random.randint(0, 2, n)\n",
    "h = np.random.randint(0, 2, n)\n",
    "x = a + b + c + d + e + f + g + h\n",
    "for i in range(0, n):\n",
    "    if x[i] == 3:\n",
    "        k = k + 1\n",
    "#print(a, b, c, d)\n",
    "#print(x)\n",
    "print(k, n, k/n)"
   ]
  },
  {
   "cell_type": "code",
   "execution_count": 7,
   "metadata": {},
   "outputs": [
    {
     "name": "stdout",
     "output_type": "stream",
     "text": [
      "0.21875\n"
     ]
    }
   ],
   "source": [
    "n = 8\n",
    "k = 3\n",
    "p = 0.5\n",
    "\n",
    "com = math.factorial(n)/(math.factorial(k)*math.factorial(n-k))\n",
    "prob = com * p**k * (1-p)**(n-k)\n",
    "\n",
    "print(prob)"
   ]
  },
  {
   "cell_type": "markdown",
   "metadata": {},
   "source": [
    "## Задание 4"
   ]
  },
  {
   "cell_type": "code",
   "execution_count": 44,
   "metadata": {},
   "outputs": [
    {
     "name": "stdout",
     "output_type": "stream",
     "text": [
      "00\n",
      "01\n",
      "02\n",
      "03\n",
      "10\n",
      "11\n",
      "12\n",
      "13\n",
      "20\n",
      "21\n",
      "22\n",
      "23\n",
      "30\n",
      "31\n",
      "32\n",
      "33\n"
     ]
    }
   ],
   "source": [
    "for p in itertools.product(\"0123\", repeat=2):\n",
    "    print(''.join(p))"
   ]
  },
  {
   "cell_type": "code",
   "execution_count": 43,
   "metadata": {},
   "outputs": [
    {
     "name": "stdout",
     "output_type": "stream",
     "text": [
      "01\n",
      "02\n",
      "03\n",
      "10\n",
      "12\n",
      "13\n",
      "20\n",
      "21\n",
      "23\n",
      "30\n",
      "31\n",
      "32\n"
     ]
    }
   ],
   "source": [
    "for p in itertools.permutations(\"0123\", 2):\n",
    "    print(''.join(str(x) for x in p))"
   ]
  },
  {
   "cell_type": "code",
   "execution_count": 42,
   "metadata": {},
   "outputs": [
    {
     "name": "stdout",
     "output_type": "stream",
     "text": [
      "01\n",
      "02\n",
      "03\n",
      "12\n",
      "13\n",
      "23\n"
     ]
    }
   ],
   "source": [
    "for p in itertools.combinations(\"0123\", 2):\n",
    "    print(''.join(p))"
   ]
  },
  {
   "cell_type": "markdown",
   "metadata": {},
   "source": [
    "## Задание 5"
   ]
  },
  {
   "cell_type": "code",
   "execution_count": 50,
   "metadata": {},
   "outputs": [
    {
     "name": "stderr",
     "output_type": "stream",
     "text": [
      "C:\\ProgramData\\Anaconda3\\lib\\site-packages\\ipykernel_launcher.py:14: FutureWarning: `rcond` parameter will change to the default of machine precision times ``max(M, N)`` where M and N are the input matrix dimensions.\n",
      "To use the future default and silence this warning we advise to pass `rcond=None`, to keep using the old, explicitly pass `rcond=-1`.\n",
      "  \n"
     ]
    },
    {
     "name": "stdout",
     "output_type": "stream",
     "text": [
      "0.6542759958468111 0.1932058646981616\n",
      "0.6542759958468113 0.19320586469816126\n"
     ]
    },
    {
     "data": {
      "image/png": "[encoded data removed]",
      "text/plain": [
       "<Figure size 432x288 with 1 Axes>"
      ]
     },
     "metadata": {
      "needs_background": "light"
     },
     "output_type": "display_data"
    },
    {
     "name": "stdout",
     "output_type": "stream",
     "text": [
      "Корреляция: 0.9274\n"
     ]
    }
   ],
   "source": [
    "n = 100\n",
    "r = 0.7\n",
    "x = np.random.rand(n)\n",
    "y = r*x + (1 - r)*np.random.rand(n)\n",
    "plt.plot(x, y, 'o')\n",
    "plt.xlabel('x')\n",
    "plt.ylabel('y')\n",
    "plt.grid(True)\n",
    "\n",
    "a = (np.sum(x)*np.sum(y) - n*np.sum(x*y))/(np.sum(x)**2 - n*np.sum(x**2))\n",
    "b = (np.sum(y) - a*np.sum(x))/n\n",
    "\n",
    "A = np.vstack([x, np.ones(len(x))]).T\n",
    "a1, b1 = np.linalg.lstsq(A, y)[0]\n",
    "\n",
    "print(a, b)\n",
    "print(a1, b1)\n",
    "plt.plot([0, 1], [b, a + b])\n",
    "plt.show()\n",
    "\n",
    "R = np.sum((x - np.mean(x))*(y - np.mean(y)))/np.sqrt(np.sum((x - np.mean(x))**2)*np.sum((y - np.mean(y))**2))\n",
    "print(\"Корреляция: {:.4f}\".format(R))"
   ]
  },
  {
   "cell_type": "code",
   "execution_count": null,
   "metadata": {},
   "outputs": [],
   "source": []
  }
 ],
 "metadata": {
  "kernelspec": {
   "display_name": "Python 3",
   "language": "python",
   "name": "python3"
  },
  "language_info": {
   "codemirror_mode": {
    "name": "ipython",
    "version": 3
   },
   "file_extension": ".py",
   "mimetype": "text/x-python",
   "name": "python",
   "nbconvert_exporter": "python",
   "pygments_lexer": "ipython3",
   "version": "3.7.3"
  }
 },
 "nbformat": 4,
 "nbformat_minor": 2
}
